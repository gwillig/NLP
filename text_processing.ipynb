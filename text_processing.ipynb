{
 "cells": [
  {
   "cell_type": "markdown",
   "metadata": {},
   "source": [
    "# Text Processing\n",
    "\n",
    "## Capturing Text Data\n",
    "\n",
    "### Plain Text"
   ]
  },
  {
   "cell_type": "code",
   "execution_count": 1,
   "metadata": {},
   "outputs": [
    {
     "name": "stdout",
     "output_type": "stream",
     "text": [
      "Hieroglyphic writing dates from c. 3000 BC, and is composed of hundreds of symbols. A hieroglyph can represent a word, a sound, or a silent determinative; and the same symbol can serve different purposes in different contexts. Hieroglyphs were a formal script, used on stone monuments and in tombs, that could be as detailed as individual works of art.\n",
      "\n"
     ]
    }
   ],
   "source": [
    "import os\n",
    "\n",
    "# Read in a plain text file\n",
    "with open(os.path.join(\"data\", \"hieroglyph.txt\"), \"r\") as f:\n",
    "    text = f.read()\n",
    "    print(text)"
   ]
  },
  {
   "cell_type": "markdown",
   "metadata": {},
   "source": [
    "### Tabular Data"
   ]
  },
  {
   "cell_type": "code",
   "execution_count": 2,
   "metadata": {
    "scrolled": true
   },
   "outputs": [
    {
     "data": {
      "text/html": [
       "<div>\n",
       "<style scoped>\n",
       "    .dataframe tbody tr th:only-of-type {\n",
       "        vertical-align: middle;\n",
       "    }\n",
       "\n",
       "    .dataframe tbody tr th {\n",
       "        vertical-align: top;\n",
       "    }\n",
       "\n",
       "    .dataframe thead th {\n",
       "        text-align: right;\n",
       "    }\n",
       "</style>\n",
       "<table border=\"1\" class=\"dataframe\">\n",
       "  <thead>\n",
       "    <tr style=\"text-align: right;\">\n",
       "      <th></th>\n",
       "      <th>publisher</th>\n",
       "      <th>title</th>\n",
       "    </tr>\n",
       "  </thead>\n",
       "  <tbody>\n",
       "    <tr>\n",
       "      <th>0</th>\n",
       "      <td>Livemint</td>\n",
       "      <td>fed's charles plosser sees high bar for change...</td>\n",
       "    </tr>\n",
       "    <tr>\n",
       "      <th>1</th>\n",
       "      <td>IFA Magazine</td>\n",
       "      <td>us open: stocks fall after fed official hints ...</td>\n",
       "    </tr>\n",
       "    <tr>\n",
       "      <th>2</th>\n",
       "      <td>IFA Magazine</td>\n",
       "      <td>fed risks falling 'behind the curve', charles ...</td>\n",
       "    </tr>\n",
       "    <tr>\n",
       "      <th>3</th>\n",
       "      <td>Moneynews</td>\n",
       "      <td>fed's plosser: nasty weather has curbed job gr...</td>\n",
       "    </tr>\n",
       "    <tr>\n",
       "      <th>4</th>\n",
       "      <td>NASDAQ</td>\n",
       "      <td>plosser: fed may have to accelerate tapering pace</td>\n",
       "    </tr>\n",
       "  </tbody>\n",
       "</table>\n",
       "</div>"
      ],
      "text/plain": [
       "      publisher                                              title\n",
       "0      Livemint  fed's charles plosser sees high bar for change...\n",
       "1  IFA Magazine  us open: stocks fall after fed official hints ...\n",
       "2  IFA Magazine  fed risks falling 'behind the curve', charles ...\n",
       "3     Moneynews  fed's plosser: nasty weather has curbed job gr...\n",
       "4        NASDAQ  plosser: fed may have to accelerate tapering pace"
      ]
     },
     "execution_count": 2,
     "metadata": {},
     "output_type": "execute_result"
    }
   ],
   "source": [
    "import pandas as pd\n",
    "\n",
    "# Extract text column from a dataframe\n",
    "df = pd.read_csv(os.path.join(\"data\", \"news.csv\"))\n",
    "df.head()[['publisher', 'title']]\n",
    "\n",
    "# Convert text column to lowercase\n",
    "df['title'] = df['title'].str.lower()\n",
    "df.head()[['publisher', 'title']]"
   ]
  },
  {
   "cell_type": "markdown",
   "metadata": {},
   "source": [
    "### Online Resource"
   ]
  },
  {
   "cell_type": "code",
   "execution_count": 3,
   "metadata": {
    "scrolled": true
   },
   "outputs": [
    {
     "name": "stdout",
     "output_type": "stream",
     "text": [
      "{\n",
      "    \"success\": {\n",
      "        \"total\": 1\n",
      "    },\n",
      "    \"contents\": {\n",
      "        \"quotes\": [\n",
      "            {\n",
      "                \"quote\": \"Meaning is something you build into your life. You build it out of your own past, out of your affections and loyalties, out of the experience of humankind as it is passed on to you. ... You are the only one who can put them together into that unique pattern that will be your life.\",\n",
      "                \"length\": \"281\",\n",
      "                \"author\": \"John Gardner\",\n",
      "                \"tags\": {\n",
      "                    \"0\": \"existence\",\n",
      "                    \"1\": \"inspire\",\n",
      "                    \"2\": \"meaning\",\n",
      "                    \"4\": \"tso-life\"\n",
      "                },\n",
      "                \"category\": \"inspire\",\n",
      "                \"language\": \"en\",\n",
      "                \"date\": \"2020-05-07\",\n",
      "                \"permalink\": \"https://theysaidso.com/quote/john-gardner-meaning-is-something-you-build-into-your-life-you-build-it-out-of-y\",\n",
      "                \"id\": \"0dnJB1FQHoDklJmvdpIseQeF\",\n",
      "                \"background\": \"https://theysaidso.com/img/qod/qod-inspire.jpg\",\n",
      "                \"title\": \"Inspiring Quote of the day\"\n",
      "            }\n",
      "        ]\n",
      "    },\n",
      "    \"baseurl\": \"https://theysaidso.com\",\n",
      "    \"copyright\": {\n",
      "        \"year\": 2022,\n",
      "        \"url\": \"https://theysaidso.com\"\n",
      "    }\n",
      "}\n",
      "Meaning is something you build into your life. You build it out of your own past, out of your affections and loyalties, out of the experience of humankind as it is passed on to you. ... You are the only one who can put them together into that unique pattern that will be your life. \n",
      "-- John Gardner\n"
     ]
    }
   ],
   "source": [
    "import requests\n",
    "import json\n",
    "\n",
    "# Fetch data from a REST API\n",
    "r = requests.get(\n",
    "    \"https://quotes.rest/qod.json\")\n",
    "res = r.json()\n",
    "print(json.dumps(res, indent=4))\n",
    "\n",
    "# Extract relevant object and field\n",
    "q = res[\"contents\"][\"quotes\"][0]\n",
    "print(q[\"quote\"], \"\\n--\", q[\"author\"])"
   ]
  },
  {
   "cell_type": "markdown",
   "metadata": {},
   "source": [
    "## Cleaning"
   ]
  },
  {
   "cell_type": "code",
   "execution_count": 4,
   "metadata": {
    "scrolled": true
   },
   "outputs": [
    {
     "name": "stdout",
     "output_type": "stream",
     "text": [
      "<html lang=\"en\" op=\"news\"><head><meta name=\"referrer\" content=\"origin\"><meta name=\"viewport\" content=\"width=device-width, initial-scale=1.0\"><link rel=\"stylesheet\" type=\"text/css\" href=\"news.css?voatr1XnEz4pA5vgzzFL\">\n",
      "        <link rel=\"shortcut icon\" href=\"favicon.ico\">\n",
      "          <link rel=\"alternate\" type=\"application/rss+xml\" title=\"RSS\" href=\"rss\">\n",
      "        <title>Hacker News</title></head><body><center><table id=\"hnmain\" border=\"0\" cellpadding=\"0\" cellspacing=\"0\" width=\"85%\" bgcolor=\"#f6f6ef\">\n",
      "        <tr><td bgcolor=\"#ff6600\"><table border=\"0\" cellpadding=\"0\" cellspacing=\"0\" width=\"100%\" style=\"padding:2px\"><tr><td style=\"width:18px;padding-right:4px\"><a href=\"https://news.ycombinator.com\"><img src=\"y18.gif\" width=\"18\" height=\"18\" style=\"border:1px white solid;\"></a></td>\n",
      "                  <td style=\"line-height:12pt; height:10px;\"><span class=\"pagetop\"><b class=\"hnname\"><a href=\"news\">Hacker News</a></b>\n",
      "              <a href=\"newest\">new</a> | <a href=\"front\">past</a> | <a href=\"newcomments\">comments</a> | <a href=\"ask\">ask</a> | <a href=\"show\">show</a> | <a href=\"jobs\">jobs</a> | <a href=\"submit\">submit</a>            </span></td><td style=\"text-align:right;padding-right:4px;\"><span class=\"pagetop\">\n",
      "                              <a href=\"login?goto=news\">login</a>\n",
      "                          </span></td>\n",
      "              </tr></table></td></tr>\n",
      "<tr id=\"pagespace\" title=\"\" style=\"height:10px\"></tr><tr><td><table border=\"0\" cellpadding=\"0\" cellspacing=\"0\" class=\"itemlist\">\n",
      "              <tr class='athing' id='23097459'>\n",
      "      <td align=\"right\" valign=\"top\" class=\"title\"><span class=\"rank\">1.</span></td>      <td valign=\"top\" class=\"votelinks\"><center><a id='up_23097459' href='vote?id=23097459&amp;how=up&amp;goto=news'><div class='votearrow' title='upvote'></div></a></center></td><td class=\"title\"><a href=\"https://github.com/facebook/facebook-ios-sdk/issues/1374\" class=\"storylink\">Facebook iOS SDK Remotely Crashing Spotify, TikTok, Pinterest, Winno and More</a><span class=\"sitebit comhead\"> (<a href=\"from?site=github.com\"><span class=\"sitestr\">github.com</span></a>)</span></td></tr><tr><td colspan=\"2\"></td><td class=\"subtext\">\n",
      "        <span class=\"score\" id=\"score_23097459\">697 points</span> by <a href=\"user?id=MCKapur\" class=\"hnuser\">MCKapur</a> <span class=\"age\"><a href=\"item?id=23097459\">11 hours ago</a></span> <span id=\"unv_23097459\"></span> | <a href=\"hide?id=23097459&amp;goto=news\">hide</a> | <a href=\"item?id=23097459\">310&nbsp;comments</a>              </td></tr>\n",
      "      <tr class=\"spacer\" style=\"height:5px\"></tr>\n",
      "                <tr class='athing' id='23089999'>\n",
      "      <td align=\"right\" valign=\"top\" class=\"title\"><span class=\"rank\">2.</span></td>      <td valign=\"top\" class=\"votelinks\"><center><a id='up_23089999' href='vote?id=23089999&amp;how=up&amp;goto=news'><div class='votearrow' title='upvote'></div></a></center></td><td class=\"title\"><a href=\"item?id=23089999\" class=\"storylink\">Ask HN: Is your company sticking to on-premise servers? Why?</a></td></tr><tr><td colspan=\"2\"></td><td class=\"subtext\">\n",
      "        <span class=\"score\" id=\"score_23089999\">485 points</span> by <a href=\"user?id=aspyct\" class=\"hnuser\">aspyct</a> <span class=\"age\"><a href=\"item?id=23089999\">12 hours ago</a></span> <span id=\"unv_23089999\"></span> | <a href=\"hide?id=23089999&amp;goto=news\">hide</a> | <a href=\"item?id=23089999\">523&nbsp;comments</a>              </td></tr>\n",
      "      <tr class=\"spacer\" style=\"height:5px\"></tr>\n",
      "                <tr class='athing' id='23089729'>\n",
      "      <td align=\"right\" valign=\"top\" class=\"title\"><span class=\"rank\">3.</span></td>      <td valign=\"top\" class=\"votelinks\"><center><a id='up_23089729' href='vote?id=23089729&amp;how=up&amp;goto=news'><div class='votearrow' title='upvote'></div></a></center></td><td class=\"title\"><a href=\"https://nullprogram.com/blog/2020/04/30/\" class=\"storylink\">When Parallel: Pull, Don't Push</a><span class=\"sitebit comhead\"> (<a href=\"from?site=nullprogram.com\"><span class=\"sitestr\">nullprogram.com</span></a>)</span></td></tr><tr><td colspan=\"2\"></td><td class=\"subtext\">\n",
      "        <span class=\"score\" id=\"score_23089729\">99 points</span> by <a href=\"user?id=signa11\" class=\"hnuser\">signa11</a> <span class=\"age\"><a href=\"item?id=23089729\">5 hours ago</a></span> <span id=\"unv_23089729\"></span> | <a href=\"hide?id=23089729&amp;goto=news\">hide</a> | <a href=\"item?id=23089729\">17&nbsp;comments</a>              </td></tr>\n",
      "      <tr class=\"spacer\" style=\"height:5px\"></tr>\n",
      "                <tr class='athing' id='23089913'>\n",
      "      <td align=\"right\" valign=\"top\" class=\"title\"><span class=\"rank\">4.</span></td>      <td valign=\"top\" class=\"votelinks\"><center><a id='up_23089913' href='vote?id=23089913&amp;how=up&amp;goto=news'><div class='votearrow' title='upvote'></div></a></center></td><td class=\"title\"><a href=\"https://arxiv.org/abs/2005.02268\" class=\"storylink\">Breaking RSA Security with a Low Noise D-Wave 2000Q Quantum Annealer</a><span class=\"sitebit comhead\"> (<a href=\"from?site=arxiv.org\"><span class=\"sitestr\">arxiv.org</span></a>)</span></td></tr><tr><td colspan=\"2\"></td><td class=\"subtext\">\n",
      "        <span class=\"score\" id=\"score_23089913\">72 points</span> by <a href=\"user?id=adulau\" class=\"hnuser\">adulau</a> <span class=\"age\"><a href=\"item?id=23089913\">8 hours ago</a></span> <span id=\"unv_23089913\"></span> | <a href=\"hide?id=23089913&amp;goto=news\">hide</a> | <a href=\"item?id=23089913\">26&nbsp;comments</a>              </td></tr>\n",
      "      <tr class=\"spacer\" style=\"height:5px\"></tr>\n",
      "                <tr class='athing' id='23092904'>\n",
      "      <td align=\"right\" valign=\"top\" class=\"title\"><span class=\"rank\">5.</span></td>      <td valign=\"top\" class=\"votelinks\"><center><a id='up_23092904' href='vote?id=23092904&amp;how=up&amp;goto=news'><div class='votearrow' title='upvote'></div></a></center></td><td class=\"title\"><a href=\"https://github.com/features/codespaces\" class=\"storylink\">GitHub Codespaces</a><span class=\"sitebit comhead\"> (<a href=\"from?site=github.com\"><span class=\"sitestr\">github.com</span></a>)</span></td></tr><tr><td colspan=\"2\"></td><td class=\"subtext\">\n",
      "        <span class=\"score\" id=\"score_23092904\">1593 points</span> by <a href=\"user?id=CraftThatBlock\" class=\"hnuser\">CraftThatBlock</a> <span class=\"age\"><a href=\"item?id=23092904\">17 hours ago</a></span> <span id=\"unv_23092904\"></span> | <a href=\"hide?id=23092904&amp;goto=news\">hide</a> | <a href=\"item?id=23092904\">549&nbsp;comments</a>              </td></tr>\n",
      "      <tr class=\"spacer\" style=\"height:5px\"></tr>\n",
      "                <tr class='athing' id='23082093'>\n",
      "      <td align=\"right\" valign=\"top\" class=\"title\"><span class=\"rank\">6.</span></td>      <td valign=\"top\" class=\"votelinks\"><center><a id='up_23082093' href='vote?id=23082093&amp;how=up&amp;goto=news'><div class='votearrow' title='upvote'></div></a></center></td><td class=\"title\"><a href=\"https://aeon.co/essays/why-keeping-bees-means-thinking-about-landscape-as-a-system\" class=\"storylink\">Keeping bees means thinking about landscape as a system</a><span class=\"sitebit comhead\"> (<a href=\"from?site=aeon.co\"><span class=\"sitestr\">aeon.co</span></a>)</span></td></tr><tr><td colspan=\"2\"></td><td class=\"subtext\">\n",
      "        <span class=\"score\" id=\"score_23082093\">27 points</span> by <a href=\"user?id=prostoalex\" class=\"hnuser\">prostoalex</a> <span class=\"age\"><a href=\"item?id=23082093\">4 hours ago</a></span> <span id=\"unv_23082093\"></span> | <a href=\"hide?id=23082093&amp;goto=news\">hide</a> | <a href=\"item?id=23082093\">3&nbsp;comments</a>              </td></tr>\n",
      "      <tr class=\"spacer\" style=\"height:5px\"></tr>\n",
      "                <tr class='athing' id='23099632'>\n",
      "      <td align=\"right\" valign=\"top\" class=\"title\"><span class=\"rank\">7.</span></td>      <td valign=\"top\" class=\"votelinks\"><center><a id='up_23099632' href='vote?id=23099632&amp;how=up&amp;goto=news'><div class='votearrow' title='upvote'></div></a></center></td><td class=\"title\"><a href=\"https://github.com/tboox/ltui\" class=\"storylink\">LTUI – A cross platform terminal UI library based on Lua</a><span class=\"sitebit comhead\"> (<a href=\"from?site=github.com\"><span class=\"sitestr\">github.com</span></a>)</span></td></tr><tr><td colspan=\"2\"></td><td class=\"subtext\">\n",
      "        <span class=\"score\" id=\"score_23099632\">63 points</span> by <a href=\"user?id=todsacerdoti\" class=\"hnuser\">todsacerdoti</a> <span class=\"age\"><a href=\"item?id=23099632\">6 hours ago</a></span> <span id=\"unv_23099632\"></span> | <a href=\"hide?id=23099632&amp;goto=news\">hide</a> | <a href=\"item?id=23099632\">8&nbsp;comments</a>              </td></tr>\n",
      "      <tr class=\"spacer\" style=\"height:5px\"></tr>\n",
      "                <tr class='athing' id='23099584'>\n",
      "      <td align=\"right\" valign=\"top\" class=\"title\"><span class=\"rank\">8.</span></td>      <td valign=\"top\" class=\"votelinks\"><center><a id='up_23099584' href='vote?id=23099584&amp;how=up&amp;goto=news'><div class='votearrow' title='upvote'></div></a></center></td><td class=\"title\"><a href=\"https://notamonadtutorial.com/a-brief-introduction-to-the-beauty-of-information-theory-8357f5b6a355\" class=\"storylink\">A brief introduction to the beauty of Information Theory</a><span class=\"sitebit comhead\"> (<a href=\"from?site=notamonadtutorial.com\"><span class=\"sitestr\">notamonadtutorial.com</span></a>)</span></td></tr><tr><td colspan=\"2\"></td><td class=\"subtext\">\n",
      "        <span class=\"score\" id=\"score_23099584\">54 points</span> by <a href=\"user?id=justinucd\" class=\"hnuser\">justinucd</a> <span class=\"age\"><a href=\"item?id=23099584\">6 hours ago</a></span> <span id=\"unv_23099584\"></span> | <a href=\"hide?id=23099584&amp;goto=news\">hide</a> | <a href=\"item?id=23099584\">1&nbsp;comment</a>              </td></tr>\n",
      "      <tr class=\"spacer\" style=\"height:5px\"></tr>\n",
      "                <tr class='athing' id='23089782'>\n",
      "      <td align=\"right\" valign=\"top\" class=\"title\"><span class=\"rank\">9.</span></td>      <td valign=\"top\" class=\"votelinks\"><center><a id='up_23089782' href='vote?id=23089782&amp;how=up&amp;goto=news'><div class='votearrow' title='upvote'></div></a></center></td><td class=\"title\"><a href=\"https://www.nytimes.com/2020/05/05/science/the-thinnest-paper-in-the-world.html\" class=\"storylink\">The Thinnest Paper in the World</a><span class=\"sitebit comhead\"> (<a href=\"from?site=nytimes.com\"><span class=\"sitestr\">nytimes.com</span></a>)</span></td></tr><tr><td colspan=\"2\"></td><td class=\"subtext\">\n",
      "        <span class=\"score\" id=\"score_23089782\">10 points</span> by <a href=\"user?id=mhb\" class=\"hnuser\">mhb</a> <span class=\"age\"><a href=\"item?id=23089782\">2 hours ago</a></span> <span id=\"unv_23089782\"></span> | <a href=\"hide?id=23089782&amp;goto=news\">hide</a> | <a href=\"item?id=23089782\">2&nbsp;comments</a>              </td></tr>\n",
      "      <tr class=\"spacer\" style=\"height:5px\"></tr>\n",
      "                <tr class='athing' id='23091137'>\n",
      "      <td align=\"right\" valign=\"top\" class=\"title\"><span class=\"rank\">10.</span></td>      <td valign=\"top\" class=\"votelinks\"><center><a id='up_23091137' href='vote?id=23091137&amp;how=up&amp;goto=news'><div class='votearrow' title='upvote'></div></a></center></td><td class=\"title\"><a href=\"https://techcrunch.com/2020/05/06/how-apple-reinvented-the-cursor-for-ipad/\" class=\"storylink\">The iPad's new cursor and keyboard</a><span class=\"sitebit comhead\"> (<a href=\"from?site=techcrunch.com\"><span class=\"sitestr\">techcrunch.com</span></a>)</span></td></tr><tr><td colspan=\"2\"></td><td class=\"subtext\">\n",
      "        <span class=\"score\" id=\"score_23091137\">110 points</span> by <a href=\"user?id=ArmandGrillet\" class=\"hnuser\">ArmandGrillet</a> <span class=\"age\"><a href=\"item?id=23091137\">9 hours ago</a></span> <span id=\"unv_23091137\"></span> | <a href=\"hide?id=23091137&amp;goto=news\">hide</a> | <a href=\"item?id=23091137\">107&nbsp;comments</a>              </td></tr>\n",
      "      <tr class=\"spacer\" style=\"height:5px\"></tr>\n",
      "                <tr class='athing' id='23091384'>\n",
      "      <td align=\"right\" valign=\"top\" class=\"title\"><span class=\"rank\">11.</span></td>      <td valign=\"top\" class=\"votelinks\"><center><a id='up_23091384' href='vote?id=23091384&amp;how=up&amp;goto=news'><div class='votearrow' title='upvote'></div></a></center></td><td class=\"title\"><a href=\"https://www.beekeeperstudio.io\" class=\"storylink\">Show HN: Beekeeper Studio – open-source, cross-platform SQL client</a><span class=\"sitebit comhead\"> (<a href=\"from?site=beekeeperstudio.io\"><span class=\"sitestr\">beekeeperstudio.io</span></a>)</span></td></tr><tr><td colspan=\"2\"></td><td class=\"subtext\">\n",
      "        <span class=\"score\" id=\"score_23091384\">222 points</span> by <a href=\"user?id=rathboma\" class=\"hnuser\">rathboma</a> <span class=\"age\"><a href=\"item?id=23091384\">13 hours ago</a></span> <span id=\"unv_23091384\"></span> | <a href=\"hide?id=23091384&amp;goto=news\">hide</a> | <a href=\"item?id=23091384\">56&nbsp;comments</a>              </td></tr>\n",
      "      <tr class=\"spacer\" style=\"height:5px\"></tr>\n",
      "                <tr class='athing' id='23090393'>\n",
      "      <td align=\"right\" valign=\"top\" class=\"title\"><span class=\"rank\">12.</span></td>      <td valign=\"top\" class=\"votelinks\"><center><a id='up_23090393' href='vote?id=23090393&amp;how=up&amp;goto=news'><div class='votearrow' title='upvote'></div></a></center></td><td class=\"title\"><a href=\"https://techcrunch.com/2020/05/06/no-cookie-consent-walls-and-no-scrolling-isnt-consent-says-eu-data-protection-body/\" class=\"storylink\">No cookie consent walls, scrolling isn’t consent, says EU data protection body</a><span class=\"sitebit comhead\"> (<a href=\"from?site=techcrunch.com\"><span class=\"sitestr\">techcrunch.com</span></a>)</span></td></tr><tr><td colspan=\"2\"></td><td class=\"subtext\">\n",
      "        <span class=\"score\" id=\"score_23090393\">1003 points</span> by <a href=\"user?id=sohkamyung\" class=\"hnuser\">sohkamyung</a> <span class=\"age\"><a href=\"item?id=23090393\">21 hours ago</a></span> <span id=\"unv_23090393\"></span> | <a href=\"hide?id=23090393&amp;goto=news\">hide</a> | <a href=\"item?id=23090393\">894&nbsp;comments</a>              </td></tr>\n",
      "      <tr class=\"spacer\" style=\"height:5px\"></tr>\n",
      "                <tr class='athing' id='23087197'>\n",
      "      <td align=\"right\" valign=\"top\" class=\"title\"><span class=\"rank\">13.</span></td>      <td valign=\"top\" class=\"votelinks\"><center><a id='up_23087197' href='vote?id=23087197&amp;how=up&amp;goto=news'><div class='votearrow' title='upvote'></div></a></center></td><td class=\"title\"><a href=\"https://ebzzry.io/en/nix/\" class=\"storylink\">A Gentle Introduction to the Nix Family (2019)</a><span class=\"sitebit comhead\"> (<a href=\"from?site=ebzzry.io\"><span class=\"sitestr\">ebzzry.io</span></a>)</span></td></tr><tr><td colspan=\"2\"></td><td class=\"subtext\">\n",
      "        <span class=\"score\" id=\"score_23087197\">106 points</span> by <a href=\"user?id=gurjeet\" class=\"hnuser\">gurjeet</a> <span class=\"age\"><a href=\"item?id=23087197\">11 hours ago</a></span> <span id=\"unv_23087197\"></span> | <a href=\"hide?id=23087197&amp;goto=news\">hide</a> | <a href=\"item?id=23087197\">15&nbsp;comments</a>              </td></tr>\n",
      "      <tr class=\"spacer\" style=\"height:5px\"></tr>\n",
      "                <tr class='athing' id='23095701'>\n",
      "      <td align=\"right\" valign=\"top\" class=\"title\"><span class=\"rank\">14.</span></td>      <td valign=\"top\" class=\"votelinks\"><center><a id='up_23095701' href='vote?id=23095701&amp;how=up&amp;goto=news'><div class='votearrow' title='upvote'></div></a></center></td><td class=\"title\"><a href=\"https://arstechnica.com/science/2020/05/microwave-thruster-makes-for-clean-burning-jet/\" class=\"storylink\">Jet propulsion by microwave air plasma in the atmosphere</a><span class=\"sitebit comhead\"> (<a href=\"from?site=arstechnica.com\"><span class=\"sitestr\">arstechnica.com</span></a>)</span></td></tr><tr><td colspan=\"2\"></td><td class=\"subtext\">\n",
      "        <span class=\"score\" id=\"score_23095701\">106 points</span> by <a href=\"user?id=Egregore\" class=\"hnuser\">Egregore</a> <span class=\"age\"><a href=\"item?id=23095701\">14 hours ago</a></span> <span id=\"unv_23095701\"></span> | <a href=\"hide?id=23095701&amp;goto=news\">hide</a> | <a href=\"item?id=23095701\">38&nbsp;comments</a>              </td></tr>\n",
      "      <tr class=\"spacer\" style=\"height:5px\"></tr>\n",
      "                <tr class='athing' id='23091918'>\n",
      "      <td align=\"right\" valign=\"top\" class=\"title\"><span class=\"rank\">15.</span></td>      <td valign=\"top\" class=\"votelinks\"><center><a id='up_23091918' href='vote?id=23091918&amp;how=up&amp;goto=news'><div class='votearrow' title='upvote'></div></a></center></td><td class=\"title\"><a href=\"https://newatlas.com/space/rotating-detonation-engine-ucf-hydrogen-oxygen/\" class=\"storylink\">Prototype of a rotating detonation engine, previously thought impossible</a><span class=\"sitebit comhead\"> (<a href=\"from?site=newatlas.com\"><span class=\"sitestr\">newatlas.com</span></a>)</span></td></tr><tr><td colspan=\"2\"></td><td class=\"subtext\">\n",
      "        <span class=\"score\" id=\"score_23091918\">72 points</span> by <a href=\"user?id=elorant\" class=\"hnuser\">elorant</a> <span class=\"age\"><a href=\"item?id=23091918\">9 hours ago</a></span> <span id=\"unv_23091918\"></span> | <a href=\"hide?id=23091918&amp;goto=news\">hide</a> | <a href=\"item?id=23091918\">22&nbsp;comments</a>              </td></tr>\n",
      "      <tr class=\"spacer\" style=\"height:5px\"></tr>\n",
      "                <tr class='athing' id='23089973'>\n",
      "      <td align=\"right\" valign=\"top\" class=\"title\"><span class=\"rank\">16.</span></td>      <td valign=\"top\" class=\"votelinks\"><center><a id='up_23089973' href='vote?id=23089973&amp;how=up&amp;goto=news'><div class='votearrow' title='upvote'></div></a></center></td><td class=\"title\"><a href=\"https://medium.com/tiledb/tiledb-2-0-and-the-future-of-data-science-929cdcfe95ed\" class=\"storylink\">TileDB 2.0 and the Future of Data Science</a><span class=\"sitebit comhead\"> (<a href=\"from?site=medium.com\"><span class=\"sitestr\">medium.com</span></a>)</span></td></tr><tr><td colspan=\"2\"></td><td class=\"subtext\">\n",
      "        <span class=\"score\" id=\"score_23089973\">48 points</span> by <a href=\"user?id=dalke\" class=\"hnuser\">dalke</a> <span class=\"age\"><a href=\"item?id=23089973\">8 hours ago</a></span> <span id=\"unv_23089973\"></span> | <a href=\"hide?id=23089973&amp;goto=news\">hide</a> | <a href=\"item?id=23089973\">7&nbsp;comments</a>              </td></tr>\n",
      "      <tr class=\"spacer\" style=\"height:5px\"></tr>\n",
      "                <tr class='athing' id='23087781'>\n",
      "      <td align=\"right\" valign=\"top\" class=\"title\"><span class=\"rank\">17.</span></td>      <td valign=\"top\" class=\"votelinks\"><center><a id='up_23087781' href='vote?id=23087781&amp;how=up&amp;goto=news'><div class='votearrow' title='upvote'></div></a></center></td><td class=\"title\"><a href=\"https://www.thecut.com/2020/04/now-is-the-perfect-time-to-memorize-a-poem.html\" class=\"storylink\">Now Is the Perfect Time to Memorize a Poem</a><span class=\"sitebit comhead\"> (<a href=\"from?site=thecut.com\"><span class=\"sitestr\">thecut.com</span></a>)</span></td></tr><tr><td colspan=\"2\"></td><td class=\"subtext\">\n",
      "        <span class=\"score\" id=\"score_23087781\">64 points</span> by <a href=\"user?id=apollinaire\" class=\"hnuser\">apollinaire</a> <span class=\"age\"><a href=\"item?id=23087781\">9 hours ago</a></span> <span id=\"unv_23087781\"></span> | <a href=\"hide?id=23087781&amp;goto=news\">hide</a> | <a href=\"item?id=23087781\">40&nbsp;comments</a>              </td></tr>\n",
      "      <tr class=\"spacer\" style=\"height:5px\"></tr>\n",
      "                <tr class='athing' id='23096166'>\n",
      "      <td align=\"right\" valign=\"top\" class=\"title\"><span class=\"rank\">18.</span></td>      <td valign=\"top\" class=\"votelinks\"><center><a id='up_23096166' href='vote?id=23096166&amp;how=up&amp;goto=news'><div class='votearrow' title='upvote'></div></a></center></td><td class=\"title\"><a href=\"https://jvns.ca/blog/2017/01/31/whats-tls/\" class=\"storylink\">Dissecting an SSL Certificate (2017)</a><span class=\"sitebit comhead\"> (<a href=\"from?site=jvns.ca\"><span class=\"sitestr\">jvns.ca</span></a>)</span></td></tr><tr><td colspan=\"2\"></td><td class=\"subtext\">\n",
      "        <span class=\"score\" id=\"score_23096166\">105 points</span> by <a href=\"user?id=asamant\" class=\"hnuser\">asamant</a> <span class=\"age\"><a href=\"item?id=23096166\">13 hours ago</a></span> <span id=\"unv_23096166\"></span> | <a href=\"hide?id=23096166&amp;goto=news\">hide</a> | <a href=\"item?id=23096166\">24&nbsp;comments</a>              </td></tr>\n",
      "      <tr class=\"spacer\" style=\"height:5px\"></tr>\n",
      "                <tr class='athing' id='23100002'>\n",
      "      <td align=\"right\" valign=\"top\" class=\"title\"><span class=\"rank\">19.</span></td>      <td valign=\"top\" class=\"votelinks\"><center><a id='up_23100002' href='vote?id=23100002&amp;how=up&amp;goto=news'><div class='votearrow' title='upvote'></div></a></center></td><td class=\"title\"><a href=\"https://jessimekirk.com/blog/web_for_biofx/\" class=\"storylink\">Tackling Webdev as a Bioinformatician: why is it so hard?</a><span class=\"sitebit comhead\"> (<a href=\"from?site=jessimekirk.com\"><span class=\"sitestr\">jessimekirk.com</span></a>)</span></td></tr><tr><td colspan=\"2\"></td><td class=\"subtext\">\n",
      "        <span class=\"score\" id=\"score_23100002\">97 points</span> by <a href=\"user?id=LifeIsBio\" class=\"hnuser\">LifeIsBio</a> <span class=\"age\"><a href=\"item?id=23100002\">4 hours ago</a></span> <span id=\"unv_23100002\"></span> | <a href=\"hide?id=23100002&amp;goto=news\">hide</a> | <a href=\"item?id=23100002\">119&nbsp;comments</a>              </td></tr>\n",
      "      <tr class=\"spacer\" style=\"height:5px\"></tr>\n",
      "                <tr class='athing' id='23092630'>\n",
      "      <td align=\"right\" valign=\"top\" class=\"title\"><span class=\"rank\">20.</span></td>      <td valign=\"top\" class=\"votelinks\"><center><a id='up_23092630' href='vote?id=23092630&amp;how=up&amp;goto=news'><div class='votearrow' title='upvote'></div></a></center></td><td class=\"title\"><a href=\"https://www.bbc.co.uk/news/entertainment-arts-52564281\" class=\"storylink\">Florian Schneider has died</a><span class=\"sitebit comhead\"> (<a href=\"from?site=bbc.co.uk\"><span class=\"sitestr\">bbc.co.uk</span></a>)</span></td></tr><tr><td colspan=\"2\"></td><td class=\"subtext\">\n",
      "        <span class=\"score\" id=\"score_23092630\">471 points</span> by <a href=\"user?id=arethuza\" class=\"hnuser\">arethuza</a> <span class=\"age\"><a href=\"item?id=23092630\">18 hours ago</a></span> <span id=\"unv_23092630\"></span> | <a href=\"hide?id=23092630&amp;goto=news\">hide</a> | <a href=\"item?id=23092630\">108&nbsp;comments</a>              </td></tr>\n",
      "      <tr class=\"spacer\" style=\"height:5px\"></tr>\n",
      "                <tr class='athing' id='23097089'>\n",
      "      <td align=\"right\" valign=\"top\" class=\"title\"><span class=\"rank\">21.</span></td>      <td valign=\"top\" class=\"votelinks\"><center><a id='up_23097089' href='vote?id=23097089&amp;how=up&amp;goto=news'><div class='votearrow' title='upvote'></div></a></center></td><td class=\"title\"><a href=\"https://www.theparisreview.org/blog/2020/05/06/the-origins-of-scandinavian-noir/\" class=\"storylink\" rel=\"nofollow\">The Origins of Scandinavian Noir</a><span class=\"sitebit comhead\"> (<a href=\"from?site=theparisreview.org\"><span class=\"sitestr\">theparisreview.org</span></a>)</span></td></tr><tr><td colspan=\"2\"></td><td class=\"subtext\">\n",
      "        <span class=\"score\" id=\"score_23097089\">3 points</span> by <a href=\"user?id=vo2maxer\" class=\"hnuser\">vo2maxer</a> <span class=\"age\"><a href=\"item?id=23097089\">2 hours ago</a></span> <span id=\"unv_23097089\"></span> | <a href=\"hide?id=23097089&amp;goto=news\">hide</a> | <a href=\"item?id=23097089\">discuss</a>              </td></tr>\n",
      "      <tr class=\"spacer\" style=\"height:5px\"></tr>\n",
      "                <tr class='athing' id='23096249'>\n",
      "      <td align=\"right\" valign=\"top\" class=\"title\"><span class=\"rank\">22.</span></td>      <td valign=\"top\" class=\"votelinks\"><center><a id='up_23096249' href='vote?id=23096249&amp;how=up&amp;goto=news'><div class='votearrow' title='upvote'></div></a></center></td><td class=\"title\"><a href=\"https://www.indexventures.com/perspectives/rebirth-robotics-how-covariant-unlocks-power-deep-learning-robots/\" class=\"storylink\">Covariant.ai and applying deep learning to robotics</a><span class=\"sitebit comhead\"> (<a href=\"from?site=indexventures.com\"><span class=\"sitestr\">indexventures.com</span></a>)</span></td></tr><tr><td colspan=\"2\"></td><td class=\"subtext\">\n",
      "        <span class=\"score\" id=\"score_23096249\">78 points</span> by <a href=\"user?id=wojtczyk\" class=\"hnuser\">wojtczyk</a> <span class=\"age\"><a href=\"item?id=23096249\">13 hours ago</a></span> <span id=\"unv_23096249\"></span> | <a href=\"hide?id=23096249&amp;goto=news\">hide</a> | <a href=\"item?id=23096249\">30&nbsp;comments</a>              </td></tr>\n",
      "      <tr class=\"spacer\" style=\"height:5px\"></tr>\n",
      "                <tr class='athing' id='23099181'>\n",
      "      <td align=\"right\" valign=\"top\" class=\"title\"><span class=\"rank\">23.</span></td>      <td valign=\"top\" class=\"votelinks\"><center><a id='up_23099181' href='vote?id=23099181&amp;how=up&amp;goto=news'><div class='votearrow' title='upvote'></div></a></center></td><td class=\"title\"><a href=\"https://denvaar.github.io/articles/csrf_tokens_with_phoenix.html\" class=\"storylink\">Close Look at CSRF Tokens</a><span class=\"sitebit comhead\"> (<a href=\"from?site=denvaar.github.io\"><span class=\"sitestr\">denvaar.github.io</span></a>)</span></td></tr><tr><td colspan=\"2\"></td><td class=\"subtext\">\n",
      "        <span class=\"score\" id=\"score_23099181\">51 points</span> by <a href=\"user?id=lobo_tuerto\" class=\"hnuser\">lobo_tuerto</a> <span class=\"age\"><a href=\"item?id=23099181\">7 hours ago</a></span> <span id=\"unv_23099181\"></span> | <a href=\"hide?id=23099181&amp;goto=news\">hide</a> | <a href=\"item?id=23099181\">19&nbsp;comments</a>              </td></tr>\n",
      "      <tr class=\"spacer\" style=\"height:5px\"></tr>\n",
      "                <tr class='athing' id='23092657'>\n",
      "      <td align=\"right\" valign=\"top\" class=\"title\"><span class=\"rank\">24.</span></td>      <td valign=\"top\" class=\"votelinks\"><center><a id='up_23092657' href='vote?id=23092657&amp;how=up&amp;goto=news'><div class='votearrow' title='upvote'></div></a></center></td><td class=\"title\"><a href=\"item?id=23092657\" class=\"storylink\">Ask HN: Name one idea that changed your life</a></td></tr><tr><td colspan=\"2\"></td><td class=\"subtext\">\n",
      "        <span class=\"score\" id=\"score_23092657\">688 points</span> by <a href=\"user?id=yarapavan\" class=\"hnuser\">yarapavan</a> <span class=\"age\"><a href=\"item?id=23092657\">18 hours ago</a></span> <span id=\"unv_23092657\"></span> | <a href=\"hide?id=23092657&amp;goto=news\">hide</a> | <a href=\"item?id=23092657\">634&nbsp;comments</a>              </td></tr>\n",
      "      <tr class=\"spacer\" style=\"height:5px\"></tr>\n",
      "                <tr class='athing' id='23098090'>\n",
      "      <td align=\"right\" valign=\"top\" class=\"title\"><span class=\"rank\">25.</span></td>      <td valign=\"top\" class=\"votelinks\"><center><a id='up_23098090' href='vote?id=23098090&amp;how=up&amp;goto=news'><div class='votearrow' title='upvote'></div></a></center></td><td class=\"title\"><a href=\"https://www.scientificamerican.com/article/physicists-criticize-stephen-wolframs-theory-of-everything\" class=\"storylink\">Physicists Criticize Stephen Wolfram’s ‘Theory of Everything’</a><span class=\"sitebit comhead\"> (<a href=\"from?site=scientificamerican.com\"><span class=\"sitestr\">scientificamerican.com</span></a>)</span></td></tr><tr><td colspan=\"2\"></td><td class=\"subtext\">\n",
      "        <span class=\"score\" id=\"score_23098090\">34 points</span> by <a href=\"user?id=guybedo\" class=\"hnuser\">guybedo</a> <span class=\"age\"><a href=\"item?id=23098090\">10 hours ago</a></span> <span id=\"unv_23098090\"></span> | <a href=\"hide?id=23098090&amp;goto=news\">hide</a> | <a href=\"item?id=23098090\">10&nbsp;comments</a>              </td></tr>\n",
      "      <tr class=\"spacer\" style=\"height:5px\"></tr>\n",
      "                <tr class='athing' id='23093091'>\n",
      "      <td align=\"right\" valign=\"top\" class=\"title\"><span class=\"rank\">26.</span></td>      <td valign=\"top\" class=\"votelinks\"><center><a id='up_23093091' href='vote?id=23093091&amp;how=up&amp;goto=news'><div class='votearrow' title='upvote'></div></a></center></td><td class=\"title\"><a href=\"https://github.com/features/security/advanced-security/signup\" class=\"storylink\">GitHub Codescanning</a><span class=\"sitebit comhead\"> (<a href=\"from?site=github.com\"><span class=\"sitestr\">github.com</span></a>)</span></td></tr><tr><td colspan=\"2\"></td><td class=\"subtext\">\n",
      "        <span class=\"score\" id=\"score_23093091\">361 points</span> by <a href=\"user?id=jedisct1\" class=\"hnuser\">jedisct1</a> <span class=\"age\"><a href=\"item?id=23093091\">17 hours ago</a></span> <span id=\"unv_23093091\"></span> | <a href=\"hide?id=23093091&amp;goto=news\">hide</a> | <a href=\"item?id=23093091\">68&nbsp;comments</a>              </td></tr>\n",
      "      <tr class=\"spacer\" style=\"height:5px\"></tr>\n",
      "                <tr class='athing' id='23091359'>\n",
      "      <td align=\"right\" valign=\"top\" class=\"title\"><span class=\"rank\">27.</span></td>      <td valign=\"top\" class=\"votelinks\"><center><a id='up_23091359' href='vote?id=23091359&amp;how=up&amp;goto=news'><div class='votearrow' title='upvote'></div></a></center></td><td class=\"title\"><a href=\"https://users.aalto.fi/~ave/BDA3.pdf\" class=\"storylink\">Bayesian Data Analysis, Third Edition [pdf]</a><span class=\"sitebit comhead\"> (<a href=\"from?site=aalto.fi\"><span class=\"sitestr\">aalto.fi</span></a>)</span></td></tr><tr><td colspan=\"2\"></td><td class=\"subtext\">\n",
      "        <span class=\"score\" id=\"score_23091359\">396 points</span> by <a href=\"user?id=malshe\" class=\"hnuser\">malshe</a> <span class=\"age\"><a href=\"item?id=23091359\">19 hours ago</a></span> <span id=\"unv_23091359\"></span> | <a href=\"hide?id=23091359&amp;goto=news\">hide</a> | <a href=\"item?id=23091359\">36&nbsp;comments</a>              </td></tr>\n",
      "      <tr class=\"spacer\" style=\"height:5px\"></tr>\n",
      "                <tr class='athing' id='23093990'>\n",
      "      <td align=\"right\" valign=\"top\" class=\"title\"><span class=\"rank\">28.</span></td>      <td valign=\"top\" class=\"votelinks\"><center><a id='up_23093990' href='vote?id=23093990&amp;how=up&amp;goto=news'><div class='votearrow' title='upvote'></div></a></center></td><td class=\"title\"><a href=\"http://hn.luap.info/\" class=\"storylink\">Show HN: I built a tool to remove news articles from HN</a><span class=\"sitebit comhead\"> (<a href=\"from?site=luap.info\"><span class=\"sitestr\">luap.info</span></a>)</span></td></tr><tr><td colspan=\"2\"></td><td class=\"subtext\">\n",
      "        <span class=\"score\" id=\"score_23093990\">112 points</span> by <a href=\"user?id=polote\" class=\"hnuser\">polote</a> <span class=\"age\"><a href=\"item?id=23093990\">15 hours ago</a></span> <span id=\"unv_23093990\"></span> | <a href=\"hide?id=23093990&amp;goto=news\">hide</a> | <a href=\"item?id=23093990\">55&nbsp;comments</a>              </td></tr>\n",
      "      <tr class=\"spacer\" style=\"height:5px\"></tr>\n",
      "                <tr class='athing' id='23099499'>\n",
      "      <td align=\"right\" valign=\"top\" class=\"title\"><span class=\"rank\">29.</span></td>      <td valign=\"top\" class=\"votelinks\"><center><a id='up_23099499' href='vote?id=23099499&amp;how=up&amp;goto=news'><div class='votearrow' title='upvote'></div></a></center></td><td class=\"title\"><a href=\"https://github.com/mrc-ide/covid-sim/issues/165\" class=\"storylink\">GitHub issue calling for retraction of Imperial College study for codebase flaws</a><span class=\"sitebit comhead\"> (<a href=\"from?site=github.com\"><span class=\"sitestr\">github.com</span></a>)</span></td></tr><tr><td colspan=\"2\"></td><td class=\"subtext\">\n",
      "        <span class=\"score\" id=\"score_23099499\">24 points</span> by <a href=\"user?id=jMyles\" class=\"hnuser\">jMyles</a> <span class=\"age\"><a href=\"item?id=23099499\">6 hours ago</a></span> <span id=\"unv_23099499\"></span> | <a href=\"hide?id=23099499&amp;goto=news\">hide</a> | <a href=\"item?id=23099499\">19&nbsp;comments</a>              </td></tr>\n",
      "      <tr class=\"spacer\" style=\"height:5px\"></tr>\n",
      "                <tr class='athing' id='23099705'>\n",
      "      <td align=\"right\" valign=\"top\" class=\"title\"><span class=\"rank\">30.</span></td>      <td valign=\"top\" class=\"votelinks\"><center><a id='up_23099705' href='vote?id=23099705&amp;how=up&amp;goto=news'><div class='votearrow' title='upvote'></div></a></center></td><td class=\"title\"><a href=\"https://blog.video.ibm.com/streaming-video-tips/keyframes-interframe-video-compression/\" class=\"storylink\">Keyframes, InterFrame and Video Compression (2016)</a><span class=\"sitebit comhead\"> (<a href=\"from?site=ibm.com\"><span class=\"sitestr\">ibm.com</span></a>)</span></td></tr><tr><td colspan=\"2\"></td><td class=\"subtext\">\n",
      "        <span class=\"score\" id=\"score_23099705\">7 points</span> by <a href=\"user?id=woranl\" class=\"hnuser\">woranl</a> <span class=\"age\"><a href=\"item?id=23099705\">5 hours ago</a></span> <span id=\"unv_23099705\"></span> | <a href=\"hide?id=23099705&amp;goto=news\">hide</a> | <a href=\"item?id=23099705\">5&nbsp;comments</a>              </td></tr>\n",
      "      <tr class=\"spacer\" style=\"height:5px\"></tr>\n",
      "            <tr class=\"morespace\" style=\"height:10px\"></tr><tr><td colspan=\"2\"></td><td class=\"title\"><a href=\"news?p=2\" class=\"morelink\" rel=\"next\">More</a></td></tr>\n",
      "  </table>\n",
      "</td></tr>\n",
      "<tr><td><img src=\"s.gif\" height=\"10\" width=\"0\"><table width=\"100%\" cellspacing=\"0\" cellpadding=\"1\"><tr><td bgcolor=\"#ff6600\"></td></tr></table><br><center><span class=\"yclinks\"><a href=\"newsguidelines.html\">Guidelines</a>\n",
      "        | <a href=\"newsfaq.html\">FAQ</a>\n",
      "        | <a href=\"mailto:hn@ycombinator.com\">Support</a>\n",
      "        | <a href=\"https://github.com/HackerNews/API\">API</a>\n",
      "        | <a href=\"security.html\">Security</a>\n",
      "        | <a href=\"lists\">Lists</a>\n",
      "        | <a href=\"bookmarklet.html\" rel=\"nofollow\">Bookmarklet</a>\n",
      "        | <a href=\"http://www.ycombinator.com/legal/\">Legal</a>\n",
      "        | <a href=\"http://www.ycombinator.com/apply/\">Apply to YC</a>\n",
      "        | <a href=\"mailto:hn@ycombinator.com\">Contact</a></span><br><br><form method=\"get\" action=\"//hn.algolia.com/\">Search:\n",
      "          <input type=\"text\" name=\"q\" value=\"\" size=\"17\" autocorrect=\"off\" spellcheck=\"false\" autocapitalize=\"off\" autocomplete=\"false\"></form>\n",
      "            </center></td></tr>\n",
      "      </table></center></body><script type='text/javascript' src='hn.js?voatr1XnEz4pA5vgzzFL'></script></html>\n",
      "\n"
     ]
    }
   ],
   "source": [
    "import requests\n",
    "\n",
    "# Fetch a web page\n",
    "r = requests.get(\"https://news.ycombinator.com\")\n",
    "print(r.text)"
   ]
  },
  {
   "cell_type": "code",
   "execution_count": 5,
   "metadata": {},
   "outputs": [
    {
     "name": "stdout",
     "output_type": "stream",
     "text": [
      "\n",
      "        \n",
      "          \n",
      "        Hacker News\n",
      "        \n",
      "                  Hacker News\n",
      "              new | past | comments | ask | show | jobs | submit            \n",
      "                              login\n",
      "                          \n",
      "              \n",
      "\n",
      "              \n",
      "      1.      Facebook iOS SDK Remotely Crashing Spotify, TikTok, Pinterest, Winno and More (github.com)\n",
      "        697 points by MCKapur 11 hours ago  | hide | 310&nbsp;comments              \n",
      "      \n",
      "                \n",
      "      2.      Ask HN: Is your company sticking to on-premise servers? Why?\n",
      "        485 points by aspyct 12 hours ago  | hide | 523&nbsp;comments              \n",
      "      \n",
      "                \n",
      "      3.      When Parallel: Pull, Don't Push (nullprogram.com)\n",
      "        99 points by signa11 5 hours ago  | hide | 17&nbsp;comments              \n",
      "      \n",
      "                \n",
      "      4.      Breaking RSA Security with a Low Noise D-Wave 2000Q Quantum Annealer (arxiv.org)\n",
      "        72 points by adulau 8 hours ago  | hide | 26&nbsp;comments              \n",
      "      \n",
      "                \n",
      "      5.      GitHub Codespaces (github.com)\n",
      "        1593 points by CraftThatBlock 17 hours ago  | hide | 549&nbsp;comments              \n",
      "      \n",
      "                \n",
      "      6.      Keeping bees means thinking about landscape as a system (aeon.co)\n",
      "        27 points by prostoalex 4 hours ago  | hide | 3&nbsp;comments              \n",
      "      \n",
      "                \n",
      "      7.      LTUI – A cross platform terminal UI library based on Lua (github.com)\n",
      "        63 points by todsacerdoti 6 hours ago  | hide | 8&nbsp;comments              \n",
      "      \n",
      "                \n",
      "      8.      A brief introduction to the beauty of Information Theory (notamonadtutorial.com)\n",
      "        54 points by justinucd 6 hours ago  | hide | 1&nbsp;comment              \n",
      "      \n",
      "                \n",
      "      9.      The Thinnest Paper in the World (nytimes.com)\n",
      "        10 points by mhb 2 hours ago  | hide | 2&nbsp;comments              \n",
      "      \n",
      "                \n",
      "      10.      The iPad's new cursor and keyboard (techcrunch.com)\n",
      "        110 points by ArmandGrillet 9 hours ago  | hide | 107&nbsp;comments              \n",
      "      \n",
      "                \n",
      "      11.      Show HN: Beekeeper Studio – open-source, cross-platform SQL client (beekeeperstudio.io)\n",
      "        222 points by rathboma 13 hours ago  | hide | 56&nbsp;comments              \n",
      "      \n",
      "                \n",
      "      12.      No cookie consent walls, scrolling isn’t consent, says EU data protection body (techcrunch.com)\n",
      "        1003 points by sohkamyung 21 hours ago  | hide | 894&nbsp;comments              \n",
      "      \n",
      "                \n",
      "      13.      A Gentle Introduction to the Nix Family (2019) (ebzzry.io)\n",
      "        106 points by gurjeet 11 hours ago  | hide | 15&nbsp;comments              \n",
      "      \n",
      "                \n",
      "      14.      Jet propulsion by microwave air plasma in the atmosphere (arstechnica.com)\n",
      "        106 points by Egregore 14 hours ago  | hide | 38&nbsp;comments              \n",
      "      \n",
      "                \n",
      "      15.      Prototype of a rotating detonation engine, previously thought impossible (newatlas.com)\n",
      "        72 points by elorant 9 hours ago  | hide | 22&nbsp;comments              \n",
      "      \n",
      "                \n",
      "      16.      TileDB 2.0 and the Future of Data Science (medium.com)\n",
      "        48 points by dalke 8 hours ago  | hide | 7&nbsp;comments              \n",
      "      \n",
      "                \n",
      "      17.      Now Is the Perfect Time to Memorize a Poem (thecut.com)\n",
      "        64 points by apollinaire 9 hours ago  | hide | 40&nbsp;comments              \n",
      "      \n",
      "                \n",
      "      18.      Dissecting an SSL Certificate (2017) (jvns.ca)\n",
      "        105 points by asamant 13 hours ago  | hide | 24&nbsp;comments              \n",
      "      \n",
      "                \n",
      "      19.      Tackling Webdev as a Bioinformatician: why is it so hard? (jessimekirk.com)\n",
      "        97 points by LifeIsBio 4 hours ago  | hide | 119&nbsp;comments              \n",
      "      \n",
      "                \n",
      "      20.      Florian Schneider has died (bbc.co.uk)\n",
      "        471 points by arethuza 18 hours ago  | hide | 108&nbsp;comments              \n",
      "      \n",
      "                \n",
      "      21.      The Origins of Scandinavian Noir (theparisreview.org)\n",
      "        3 points by vo2maxer 2 hours ago  | hide | discuss              \n",
      "      \n",
      "                \n",
      "      22.      Covariant.ai and applying deep learning to robotics (indexventures.com)\n",
      "        78 points by wojtczyk 13 hours ago  | hide | 30&nbsp;comments              \n",
      "      \n",
      "                \n",
      "      23.      Close Look at CSRF Tokens (denvaar.github.io)\n",
      "        51 points by lobo_tuerto 7 hours ago  | hide | 19&nbsp;comments              \n",
      "      \n",
      "                \n",
      "      24.      Ask HN: Name one idea that changed your life\n",
      "        688 points by yarapavan 18 hours ago  | hide | 634&nbsp;comments              \n",
      "      \n",
      "                \n",
      "      25.      Physicists Criticize Stephen Wolfram’s ‘Theory of Everything’ (scientificamerican.com)\n",
      "        34 points by guybedo 10 hours ago  | hide | 10&nbsp;comments              \n",
      "      \n",
      "                \n",
      "      26.      GitHub Codescanning (github.com)\n",
      "        361 points by jedisct1 17 hours ago  | hide | 68&nbsp;comments              \n",
      "      \n",
      "                \n",
      "      27.      Bayesian Data Analysis, Third Edition [pdf] (aalto.fi)\n",
      "        396 points by malshe 19 hours ago  | hide | 36&nbsp;comments              \n",
      "      \n",
      "                \n",
      "      28.      Show HN: I built a tool to remove news articles from HN (luap.info)\n",
      "        112 points by polote 15 hours ago  | hide | 55&nbsp;comments              \n",
      "      \n",
      "                \n",
      "      29.      GitHub issue calling for retraction of Imperial College study for codebase flaws (github.com)\n",
      "        24 points by jMyles 6 hours ago  | hide | 19&nbsp;comments              \n",
      "      \n",
      "                \n",
      "      30.      Keyframes, InterFrame and Video Compression (2016) (ibm.com)\n",
      "        7 points by woranl 5 hours ago  | hide | 5&nbsp;comments              \n",
      "      \n",
      "            More\n",
      "  \n",
      "\n",
      "Guidelines\n",
      "        | FAQ\n",
      "        | Support\n",
      "        | API\n",
      "        | Security\n",
      "        | Lists\n",
      "        | Bookmarklet\n",
      "        | Legal\n",
      "        | Apply to YC\n",
      "        | ContactSearch:\n",
      "          \n",
      "            \n",
      "      \n",
      "\n"
     ]
    }
   ],
   "source": [
    "import re\n",
    "\n",
    "# Remove HTML tags using RegEx\n",
    "pattern = re.compile(r'<.*?>')  # tags look like <...>\n",
    "print(pattern.sub('', r.text))  # replace them with blank"
   ]
  },
  {
   "cell_type": "code",
   "execution_count": 6,
   "metadata": {},
   "outputs": [
    {
     "name": "stdout",
     "output_type": "stream",
     "text": [
      "\n",
      "        \n",
      "          \n",
      "        Hacker News\n",
      "        \n",
      "                  Hacker News\n",
      "              new | past | comments | ask | show | jobs | submit            \n",
      "                              login\n",
      "                          \n",
      "              \n",
      "\n",
      "              \n",
      "      1.      Facebook iOS SDK Remotely Crashing Spotify, TikTok, Pinterest, Winno and More (github.com)\n",
      "        697 points by MCKapur 11 hours ago  | hide | 310 comments              \n",
      "      \n",
      "                \n",
      "      2.      Ask HN: Is your company sticking to on-premise servers? Why?\n",
      "        485 points by aspyct 12 hours ago  | hide | 523 comments              \n",
      "      \n",
      "                \n",
      "      3.      When Parallel: Pull, Don't Push (nullprogram.com)\n",
      "        99 points by signa11 5 hours ago  | hide | 17 comments              \n",
      "      \n",
      "                \n",
      "      4.      Breaking RSA Security with a Low Noise D-Wave 2000Q Quantum Annealer (arxiv.org)\n",
      "        72 points by adulau 8 hours ago  | hide | 26 comments              \n",
      "      \n",
      "                \n",
      "      5.      GitHub Codespaces (github.com)\n",
      "        1593 points by CraftThatBlock 17 hours ago  | hide | 549 comments              \n",
      "      \n",
      "                \n",
      "      6.      Keeping bees means thinking about landscape as a system (aeon.co)\n",
      "        27 points by prostoalex 4 hours ago  | hide | 3 comments              \n",
      "      \n",
      "                \n",
      "      7.      LTUI – A cross platform terminal UI library based on Lua (github.com)\n",
      "        63 points by todsacerdoti 6 hours ago  | hide | 8 comments              \n",
      "      \n",
      "                \n",
      "      8.      A brief introduction to the beauty of Information Theory (notamonadtutorial.com)\n",
      "        54 points by justinucd 6 hours ago  | hide | 1 comment              \n",
      "      \n",
      "                \n",
      "      9.      The Thinnest Paper in the World (nytimes.com)\n",
      "        10 points by mhb 2 hours ago  | hide | 2 comments              \n",
      "      \n",
      "                \n",
      "      10.      The iPad's new cursor and keyboard (techcrunch.com)\n",
      "        110 points by ArmandGrillet 9 hours ago  | hide | 107 comments              \n",
      "      \n",
      "                \n",
      "      11.      Show HN: Beekeeper Studio – open-source, cross-platform SQL client (beekeeperstudio.io)\n",
      "        222 points by rathboma 13 hours ago  | hide | 56 comments              \n",
      "      \n",
      "                \n",
      "      12.      No cookie consent walls, scrolling isn’t consent, says EU data protection body (techcrunch.com)\n",
      "        1003 points by sohkamyung 21 hours ago  | hide | 894 comments              \n",
      "      \n",
      "                \n",
      "      13.      A Gentle Introduction to the Nix Family (2019) (ebzzry.io)\n",
      "        106 points by gurjeet 11 hours ago  | hide | 15 comments              \n",
      "      \n",
      "                \n",
      "      14.      Jet propulsion by microwave air plasma in the atmosphere (arstechnica.com)\n",
      "        106 points by Egregore 14 hours ago  | hide | 38 comments              \n",
      "      \n",
      "                \n",
      "      15.      Prototype of a rotating detonation engine, previously thought impossible (newatlas.com)\n",
      "        72 points by elorant 9 hours ago  | hide | 22 comments              \n",
      "      \n",
      "                \n",
      "      16.      TileDB 2.0 and the Future of Data Science (medium.com)\n",
      "        48 points by dalke 8 hours ago  | hide | 7 comments              \n",
      "      \n",
      "                \n",
      "      17.      Now Is the Perfect Time to Memorize a Poem (thecut.com)\n",
      "        64 points by apollinaire 9 hours ago  | hide | 40 comments              \n",
      "      \n",
      "                \n",
      "      18.      Dissecting an SSL Certificate (2017) (jvns.ca)\n",
      "        105 points by asamant 13 hours ago  | hide | 24 comments              \n",
      "      \n",
      "                \n",
      "      19.      Tackling Webdev as a Bioinformatician: why is it so hard? (jessimekirk.com)\n",
      "        97 points by LifeIsBio 4 hours ago  | hide | 119 comments              \n",
      "      \n",
      "                \n",
      "      20.      Florian Schneider has died (bbc.co.uk)\n",
      "        471 points by arethuza 18 hours ago  | hide | 108 comments              \n",
      "      \n",
      "                \n",
      "      21.      The Origins of Scandinavian Noir (theparisreview.org)\n",
      "        3 points by vo2maxer 2 hours ago  | hide | discuss              \n",
      "      \n",
      "                \n",
      "      22.      Covariant.ai and applying deep learning to robotics (indexventures.com)\n",
      "        78 points by wojtczyk 13 hours ago  | hide | 30 comments              \n",
      "      \n",
      "                \n",
      "      23.      Close Look at CSRF Tokens (denvaar.github.io)\n",
      "        51 points by lobo_tuerto 7 hours ago  | hide | 19 comments              \n",
      "      \n",
      "                \n",
      "      24.      Ask HN: Name one idea that changed your life\n",
      "        688 points by yarapavan 18 hours ago  | hide | 634 comments              \n",
      "      \n",
      "                \n",
      "      25.      Physicists Criticize Stephen Wolfram’s ‘Theory of Everything’ (scientificamerican.com)\n",
      "        34 points by guybedo 10 hours ago  | hide | 10 comments              \n",
      "      \n",
      "                \n",
      "      26.      GitHub Codescanning (github.com)\n",
      "        361 points by jedisct1 17 hours ago  | hide | 68 comments              \n",
      "      \n",
      "                \n",
      "      27.      Bayesian Data Analysis, Third Edition [pdf] (aalto.fi)\n",
      "        396 points by malshe 19 hours ago  | hide | 36 comments              \n",
      "      \n",
      "                \n",
      "      28.      Show HN: I built a tool to remove news articles from HN (luap.info)\n",
      "        112 points by polote 15 hours ago  | hide | 55 comments              \n",
      "      \n",
      "                \n",
      "      29.      GitHub issue calling for retraction of Imperial College study for codebase flaws (github.com)\n",
      "        24 points by jMyles 6 hours ago  | hide | 19 comments              \n",
      "      \n",
      "                \n",
      "      30.      Keyframes, InterFrame and Video Compression (2016) (ibm.com)\n",
      "        7 points by woranl 5 hours ago  | hide | 5 comments              \n",
      "      \n",
      "            More\n",
      "  \n",
      "\n",
      "Guidelines\n",
      "        | FAQ\n",
      "        | Support\n",
      "        | API\n",
      "        | Security\n",
      "        | Lists\n",
      "        | Bookmarklet\n",
      "        | Legal\n",
      "        | Apply to YC\n",
      "        | ContactSearch:\n",
      "          \n",
      "            \n",
      "      \n",
      "\n"
     ]
    }
   ],
   "source": [
    "from bs4 import BeautifulSoup\n",
    "\n",
    "# Remove HTML tags using Beautiful Soup library\n",
    "soup = BeautifulSoup(r.text, \"html5lib\")\n",
    "print(soup.get_text())"
   ]
  },
  {
   "cell_type": "code",
   "execution_count": 8,
   "metadata": {
    "scrolled": true
   },
   "outputs": [
    {
     "data": {
      "text/plain": [
       "<tr class=\"athing\" id=\"23097459\">\n",
       "      <td align=\"right\" class=\"title\" valign=\"top\"><span class=\"rank\">1.</span></td>      <td class=\"votelinks\" valign=\"top\"><center><a href=\"vote?id=23097459&amp;how=up&amp;goto=news\" id=\"up_23097459\"><div class=\"votearrow\" title=\"upvote\"></div></a></center></td><td class=\"title\"><a class=\"storylink\" href=\"https://github.com/facebook/facebook-ios-sdk/issues/1374\">Facebook iOS SDK Remotely Crashing Spotify, TikTok, Pinterest, Winno and More</a><span class=\"sitebit comhead\"> (<a href=\"from?site=github.com\"><span class=\"sitestr\">github.com</span></a>)</span></td></tr>"
      ]
     },
     "execution_count": 8,
     "metadata": {},
     "output_type": "execute_result"
    }
   ],
   "source": [
    "# Find all articles\n",
    "summaries = soup.find_all(\"tr\", class_=\"athing\")\n",
    "summaries[0]"
   ]
  },
  {
   "cell_type": "code",
   "execution_count": 9,
   "metadata": {},
   "outputs": [
    {
     "data": {
      "text/plain": [
       "'Facebook iOS SDK Remotely Crashing Spotify, TikTok, Pinterest, Winno and More'"
      ]
     },
     "execution_count": 9,
     "metadata": {},
     "output_type": "execute_result"
    }
   ],
   "source": [
    "# Extract title\n",
    "summaries[0].find(\"a\", class_=\"storylink\").get_text().strip()"
   ]
  },
  {
   "cell_type": "code",
   "execution_count": 10,
   "metadata": {},
   "outputs": [
    {
     "name": "stdout",
     "output_type": "stream",
     "text": [
      "30 Article summaries found. Sample:\n",
      "Facebook iOS SDK Remotely Crashing Spotify, TikTok, Pinterest, Winno and More\n"
     ]
    }
   ],
   "source": [
    "# Find all articles, extract titles\n",
    "articles = []\n",
    "summaries = soup.find_all(\"tr\", class_=\"athing\")\n",
    "for summary in summaries:\n",
    "    title = summary.find(\"a\", class_=\"storylink\").get_text().strip()\n",
    "    articles.append((title))\n",
    "\n",
    "print(len(articles), \"Article summaries found. Sample:\")\n",
    "print(articles[0])"
   ]
  },
  {
   "cell_type": "markdown",
   "metadata": {
    "collapsed": true
   },
   "source": [
    "## Normalization"
   ]
  },
  {
   "cell_type": "markdown",
   "metadata": {},
   "source": [
    "### Case Normalization"
   ]
  },
  {
   "cell_type": "code",
   "execution_count": 11,
   "metadata": {},
   "outputs": [
    {
     "name": "stdout",
     "output_type": "stream",
     "text": [
      "The first time you see The Second Renaissance it may look boring. Look at it at least twice and definitely watch part 2. It will change your view of the matrix. Are the human people the ones who started the war ? Is AI a bad thing ?\n"
     ]
    }
   ],
   "source": [
    "# Sample text\n",
    "text = \"The first time you see The Second Renaissance it may look boring. Look at it at least twice and definitely watch part 2. It will change your view of the matrix. Are the human people the ones who started the war ? Is AI a bad thing ?\"\n",
    "print(text)"
   ]
  },
  {
   "cell_type": "code",
   "execution_count": 12,
   "metadata": {},
   "outputs": [
    {
     "name": "stdout",
     "output_type": "stream",
     "text": [
      "the first time you see the second renaissance it may look boring. look at it at least twice and definitely watch part 2. it will change your view of the matrix. are the human people the ones who started the war ? is ai a bad thing ?\n"
     ]
    }
   ],
   "source": [
    "# Convert to lowercase\n",
    "text = text.lower() \n",
    "print(text)"
   ]
  },
  {
   "cell_type": "markdown",
   "metadata": {},
   "source": [
    "### Punctuation Removal"
   ]
  },
  {
   "cell_type": "code",
   "execution_count": 13,
   "metadata": {},
   "outputs": [
    {
     "name": "stdout",
     "output_type": "stream",
     "text": [
      "the first time you see the second renaissance it may look boring  look at it at least twice and definitely watch part 2  it will change your view of the matrix  are the human people the ones who started the war   is ai a bad thing  \n"
     ]
    }
   ],
   "source": [
    "import re\n",
    "\n",
    "# Remove punctuation characters\n",
    "text = re.sub(r\"[^a-zA-Z0-9]\", \" \", text) \n",
    "print(text)"
   ]
  },
  {
   "cell_type": "markdown",
   "metadata": {},
   "source": [
    "## Tokenization"
   ]
  },
  {
   "cell_type": "code",
   "execution_count": 14,
   "metadata": {},
   "outputs": [
    {
     "name": "stdout",
     "output_type": "stream",
     "text": [
      "['the', 'first', 'time', 'you', 'see', 'the', 'second', 'renaissance', 'it', 'may', 'look', 'boring', 'look', 'at', 'it', 'at', 'least', 'twice', 'and', 'definitely', 'watch', 'part', '2', 'it', 'will', 'change', 'your', 'view', 'of', 'the', 'matrix', 'are', 'the', 'human', 'people', 'the', 'ones', 'who', 'started', 'the', 'war', 'is', 'ai', 'a', 'bad', 'thing']\n"
     ]
    }
   ],
   "source": [
    "# Split text into tokens (words)\n",
    "words = text.split()\n",
    "print(words)"
   ]
  },
  {
   "cell_type": "markdown",
   "metadata": {},
   "source": [
    "### NLTK: Natural Language ToolKit"
   ]
  },
  {
   "cell_type": "code",
   "execution_count": 15,
   "metadata": {},
   "outputs": [],
   "source": [
    "import os\n",
    "import nltk\n",
    "nltk.data.path.append(os.path.join(os.getcwd(), \"nltk_data\"))"
   ]
  },
  {
   "cell_type": "code",
   "execution_count": 16,
   "metadata": {},
   "outputs": [
    {
     "name": "stdout",
     "output_type": "stream",
     "text": [
      "Dr. Smith graduated from the University of Washington. He later started an analytics firm called Lux, which catered to enterprise customers.\n"
     ]
    }
   ],
   "source": [
    "# Another sample text\n",
    "text = \"Dr. Smith graduated from the University of Washington. He later started an analytics firm called Lux, which catered to enterprise customers.\"\n",
    "print(text)"
   ]
  },
  {
   "cell_type": "code",
   "execution_count": 17,
   "metadata": {},
   "outputs": [
    {
     "name": "stdout",
     "output_type": "stream",
     "text": [
      "['Dr.', 'Smith', 'graduated', 'from', 'the', 'University', 'of', 'Washington', '.', 'He', 'later', 'started', 'an', 'analytics', 'firm', 'called', 'Lux', ',', 'which', 'catered', 'to', 'enterprise', 'customers', '.']\n"
     ]
    }
   ],
   "source": [
    "from nltk.tokenize import word_tokenize\n",
    "\n",
    "# Split text into words using NLTK\n",
    "words = word_tokenize(text)\n",
    "print(words)"
   ]
  },
  {
   "cell_type": "code",
   "execution_count": 18,
   "metadata": {},
   "outputs": [
    {
     "name": "stdout",
     "output_type": "stream",
     "text": [
      "['Dr. Smith graduated from the University of Washington.', 'He later started an analytics firm called Lux, which catered to enterprise customers.']\n"
     ]
    }
   ],
   "source": [
    "from nltk.tokenize import sent_tokenize\n",
    "\n",
    "# Split text into sentences\n",
    "sentences = sent_tokenize(text)\n",
    "print(sentences)"
   ]
  },
  {
   "cell_type": "code",
   "execution_count": 19,
   "metadata": {},
   "outputs": [
    {
     "name": "stdout",
     "output_type": "stream",
     "text": [
      "['i', 'me', 'my', 'myself', 'we', 'our', 'ours', 'ourselves', 'you', \"you're\", \"you've\", \"you'll\", \"you'd\", 'your', 'yours', 'yourself', 'yourselves', 'he', 'him', 'his', 'himself', 'she', \"she's\", 'her', 'hers', 'herself', 'it', \"it's\", 'its', 'itself', 'they', 'them', 'their', 'theirs', 'themselves', 'what', 'which', 'who', 'whom', 'this', 'that', \"that'll\", 'these', 'those', 'am', 'is', 'are', 'was', 'were', 'be', 'been', 'being', 'have', 'has', 'had', 'having', 'do', 'does', 'did', 'doing', 'a', 'an', 'the', 'and', 'but', 'if', 'or', 'because', 'as', 'until', 'while', 'of', 'at', 'by', 'for', 'with', 'about', 'against', 'between', 'into', 'through', 'during', 'before', 'after', 'above', 'below', 'to', 'from', 'up', 'down', 'in', 'out', 'on', 'off', 'over', 'under', 'again', 'further', 'then', 'once', 'here', 'there', 'when', 'where', 'why', 'how', 'all', 'any', 'both', 'each', 'few', 'more', 'most', 'other', 'some', 'such', 'no', 'nor', 'not', 'only', 'own', 'same', 'so', 'than', 'too', 'very', 's', 't', 'can', 'will', 'just', 'don', \"don't\", 'should', \"should've\", 'now', 'd', 'll', 'm', 'o', 're', 've', 'y', 'ain', 'aren', \"aren't\", 'couldn', \"couldn't\", 'didn', \"didn't\", 'doesn', \"doesn't\", 'hadn', \"hadn't\", 'hasn', \"hasn't\", 'haven', \"haven't\", 'isn', \"isn't\", 'ma', 'mightn', \"mightn't\", 'mustn', \"mustn't\", 'needn', \"needn't\", 'shan', \"shan't\", 'shouldn', \"shouldn't\", 'wasn', \"wasn't\", 'weren', \"weren't\", 'won', \"won't\", 'wouldn', \"wouldn't\"]\n"
     ]
    }
   ],
   "source": [
    "# List stop words\n",
    "from nltk.corpus import stopwords\n",
    "print(stopwords.words(\"english\"))"
   ]
  },
  {
   "cell_type": "code",
   "execution_count": 20,
   "metadata": {},
   "outputs": [
    {
     "name": "stdout",
     "output_type": "stream",
     "text": [
      "['the', 'first', 'time', 'you', 'see', 'the', 'second', 'renaissance', 'it', 'may', 'look', 'boring', 'look', 'at', 'it', 'at', 'least', 'twice', 'and', 'definitely', 'watch', 'part', '2', 'it', 'will', 'change', 'your', 'view', 'of', 'the', 'matrix', 'are', 'the', 'human', 'people', 'the', 'ones', 'who', 'started', 'the', 'war', 'is', 'ai', 'a', 'bad', 'thing']\n"
     ]
    }
   ],
   "source": [
    "# Reset text\n",
    "text = \"The first time you see The Second Renaissance it may look boring. Look at it at least twice and definitely watch part 2. It will change your view of the matrix. Are the human people the ones who started the war ? Is AI a bad thing ?\"\n",
    "\n",
    "# Normalize it\n",
    "text = re.sub(r\"[^a-zA-Z0-9]\", \" \", text.lower())\n",
    "\n",
    "# Tokenize it\n",
    "words = text.split()\n",
    "print(words)"
   ]
  },
  {
   "cell_type": "code",
   "execution_count": 21,
   "metadata": {},
   "outputs": [
    {
     "name": "stdout",
     "output_type": "stream",
     "text": [
      "['first', 'time', 'see', 'second', 'renaissance', 'may', 'look', 'boring', 'look', 'least', 'twice', 'definitely', 'watch', 'part', '2', 'change', 'view', 'matrix', 'human', 'people', 'ones', 'started', 'war', 'ai', 'bad', 'thing']\n"
     ]
    }
   ],
   "source": [
    "# Remove stop words\n",
    "words = [w for w in words if w not in stopwords.words(\"english\")]\n",
    "print(words)"
   ]
  },
  {
   "cell_type": "markdown",
   "metadata": {},
   "source": [
    "### Sentence Parsing"
   ]
  },
  {
   "cell_type": "code",
   "execution_count": 22,
   "metadata": {},
   "outputs": [
    {
     "name": "stdout",
     "output_type": "stream",
     "text": [
      "(S\n",
      "  (NP I)\n",
      "  (VP\n",
      "    (VP (V shot) (NP (Det an) (N elephant)))\n",
      "    (PP (P in) (NP (Det my) (N pajamas)))))\n",
      "(S\n",
      "  (NP I)\n",
      "  (VP\n",
      "    (V shot)\n",
      "    (NP (Det an) (N elephant) (PP (P in) (NP (Det my) (N pajamas))))))\n"
     ]
    }
   ],
   "source": [
    "import nltk\n",
    "\n",
    "# Define a custom grammar\n",
    "my_grammar = nltk.CFG.fromstring(\"\"\"\n",
    "S -> NP VP\n",
    "PP -> P NP\n",
    "NP -> Det N | Det N PP | 'I'\n",
    "VP -> V NP | VP PP\n",
    "Det -> 'an' | 'my'\n",
    "N -> 'elephant' | 'pajamas'\n",
    "V -> 'shot'\n",
    "P -> 'in'\n",
    "\"\"\")\n",
    "parser = nltk.ChartParser(my_grammar)\n",
    "\n",
    "# Parse a sentence\n",
    "sentence = word_tokenize(\"I shot an elephant in my pajamas\")\n",
    "for tree in parser.parse(sentence):\n",
    "    print(tree)"
   ]
  },
  {
   "cell_type": "markdown",
   "metadata": {},
   "source": [
    "## Stemming & Lemmatization\n",
    "\n",
    "### Stemming"
   ]
  },
  {
   "cell_type": "code",
   "execution_count": 23,
   "metadata": {},
   "outputs": [
    {
     "name": "stdout",
     "output_type": "stream",
     "text": [
      "['first', 'time', 'see', 'second', 'renaiss', 'may', 'look', 'bore', 'look', 'least', 'twice', 'definit', 'watch', 'part', '2', 'chang', 'view', 'matrix', 'human', 'peopl', 'one', 'start', 'war', 'ai', 'bad', 'thing']\n"
     ]
    }
   ],
   "source": [
    "from nltk.stem.porter import PorterStemmer\n",
    "\n",
    "# Reduce words to their stems\n",
    "stemmed = [PorterStemmer().stem(w) for w in words]\n",
    "print(stemmed)"
   ]
  },
  {
   "cell_type": "markdown",
   "metadata": {},
   "source": [
    "### Lemmatization"
   ]
  },
  {
   "cell_type": "code",
   "execution_count": 24,
   "metadata": {},
   "outputs": [
    {
     "name": "stdout",
     "output_type": "stream",
     "text": [
      "['first', 'time', 'see', 'second', 'renaissance', 'may', 'look', 'boring', 'look', 'least', 'twice', 'definitely', 'watch', 'part', '2', 'change', 'view', 'matrix', 'human', 'people', 'one', 'started', 'war', 'ai', 'bad', 'thing']\n"
     ]
    }
   ],
   "source": [
    "from nltk.stem.wordnet import WordNetLemmatizer\n",
    "\n",
    "# Reduce words to their root form\n",
    "lemmed = [WordNetLemmatizer().lemmatize(w) for w in words]\n",
    "print(lemmed)"
   ]
  },
  {
   "cell_type": "code",
   "execution_count": 25,
   "metadata": {},
   "outputs": [
    {
     "name": "stdout",
     "output_type": "stream",
     "text": [
      "['first', 'time', 'see', 'second', 'renaissance', 'may', 'look', 'bore', 'look', 'least', 'twice', 'definitely', 'watch', 'part', '2', 'change', 'view', 'matrix', 'human', 'people', 'one', 'start', 'war', 'ai', 'bad', 'thing']\n"
     ]
    }
   ],
   "source": [
    "# Lemmatize verbs by specifying pos\n",
    "lemmed = [WordNetLemmatizer().lemmatize(w, pos='v') for w in lemmed]\n",
    "print(lemmed)"
   ]
  },
  {
   "cell_type": "code",
   "execution_count": null,
   "metadata": {},
   "outputs": [],
   "source": []
  },
  {
   "cell_type": "code",
   "execution_count": null,
   "metadata": {},
   "outputs": [],
   "source": []
  }
 ],
 "metadata": {
  "kernelspec": {
   "display_name": "Python 3",
   "language": "python",
   "name": "python3"
  },
  "language_info": {
   "codemirror_mode": {
    "name": "ipython",
    "version": 3
   },
   "file_extension": ".py",
   "mimetype": "text/x-python",
   "name": "python",
   "nbconvert_exporter": "python",
   "pygments_lexer": "ipython3",
   "version": "3.6.3"
  }
 },
 "nbformat": 4,
 "nbformat_minor": 2
}
